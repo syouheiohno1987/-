{
  "nbformat": 4,
  "nbformat_minor": 0,
  "metadata": {
    "colab": {
      "name": "Untitled5.ipynb",
      "provenance": [],
      "authorship_tag": "ABX9TyPLRTAtR18eazgjMzPIPoC4",
      "include_colab_link": true
    },
    "kernelspec": {
      "name": "python3",
      "display_name": "Python 3"
    },
    "language_info": {
      "name": "python"
    }
  },
  "cells": [
    {
      "cell_type": "markdown",
      "metadata": {
        "id": "view-in-github",
        "colab_type": "text"
      },
      "source": [
        "<a href=\"https://colab.research.google.com/github/syouheiohno1987/-/blob/main/Untitled5.ipynb\" target=\"_parent\"><img src=\"https://colab.research.google.com/assets/colab-badge.svg\" alt=\"Open In Colab\"/></a>"
      ]
    },
    {
      "cell_type": "code",
      "execution_count": null,
      "metadata": {
        "id": "trfPUu-LWvix"
      },
      "outputs": [],
      "source": [
        "import numpy as np"
      ]
    },
    {
      "cell_type": "code",
      "source": [
        "import matplotlib.pyplot as plt"
      ],
      "metadata": {
        "id": "l0ZY2KJwW37y"
      },
      "execution_count": null,
      "outputs": []
    },
    {
      "cell_type": "code",
      "source": [
        "%matplotlib inline"
      ],
      "metadata": {
        "id": "-mysXmzsW-zF"
      },
      "execution_count": null,
      "outputs": []
    },
    {
      "cell_type": "code",
      "source": [
        "from numpy.random import randn"
      ],
      "metadata": {
        "id": "aZ5-A-qeXCoB"
      },
      "execution_count": null,
      "outputs": []
    },
    {
      "cell_type": "code",
      "source": [
        "import copy"
      ],
      "metadata": {
        "id": "u-i1zPUSXL57"
      },
      "execution_count": null,
      "outputs": []
    },
    {
      "cell_type": "code",
      "source": [
        "def min_sq(x,y): #最小二乗法の切片と傾きを求める関数\n",
        "  x_bar=np.mean(x)\n",
        "  y_bar=np.mean(y)\n",
        "  beta_1=np.dot(x-x_bar,y-y_bar)/np.linalg.norm(x-x_bar)**2\n",
        "  beta_0=y_bar-beta_1*x_bar\n",
        "  return[beta_1,beta_0]"
      ],
      "metadata": {
        "id": "V3bOh0m-XQ5p"
      },
      "execution_count": null,
      "outputs": []
    },
    {
      "cell_type": "code",
      "source": [
        "N=100"
      ],
      "metadata": {
        "id": "Vk2U2clYYDsy"
      },
      "execution_count": null,
      "outputs": []
    },
    {
      "cell_type": "code",
      "source": [
        "a=np.random.normal(loc=2,scale=1,size=N) #平均・標準偏差・サイズ"
      ],
      "metadata": {
        "id": "Y0XdLlknYFYn"
      },
      "execution_count": null,
      "outputs": []
    },
    {
      "cell_type": "code",
      "source": [
        "b=randn(1) #係数"
      ],
      "metadata": {
        "id": "bNnLBXNwYOY4"
      },
      "execution_count": null,
      "outputs": []
    },
    {
      "cell_type": "code",
      "source": [
        "x=randn(N) "
      ],
      "metadata": {
        "id": "lcHfgmcLYR3b"
      },
      "execution_count": null,
      "outputs": []
    },
    {
      "cell_type": "code",
      "source": [
        "y=a*x+b+randn(N)　 #ここまでの人工データの生成"
      ],
      "metadata": {
        "id": "vD9K2mmEYUR9"
      },
      "execution_count": null,
      "outputs": []
    },
    {
      "cell_type": "code",
      "source": [
        "(a1,b1)=min_sq(x,y) #回帰係数・切片"
      ],
      "metadata": {
        "id": "zE1JVZ1gYgbW"
      },
      "execution_count": null,
      "outputs": []
    },
    {
      "cell_type": "code",
      "source": [
        "xx=x-np.mean(x);yy=y-np.mean(y) #中心化"
      ],
      "metadata": {
        "id": "VxMm7nUqYupH"
      },
      "execution_count": null,
      "outputs": []
    },
    {
      "cell_type": "code",
      "source": [
        "(a2,b2)=min_sq(xx,yy) #中心化後の回帰係数・切片"
      ],
      "metadata": {
        "id": "1WxeXgSgY4kH"
      },
      "execution_count": null,
      "outputs": []
    },
    {
      "cell_type": "code",
      "source": [
        "x_seq=np.arange(-5,5,0.1)"
      ],
      "metadata": {
        "id": "METtlBlUY8sR"
      },
      "execution_count": null,
      "outputs": []
    },
    {
      "cell_type": "code",
      "source": [
        "y_pre=x_seq*a1+b1"
      ],
      "metadata": {
        "id": "29ShkAaqZWyS"
      },
      "execution_count": null,
      "outputs": []
    },
    {
      "cell_type": "code",
      "source": [
        "yy_pre=x_seq*a2+b2"
      ],
      "metadata": {
        "id": "5h6q18jFZhch"
      },
      "execution_count": null,
      "outputs": []
    },
    {
      "cell_type": "code",
      "source": [
        "plt.scatter(x,y,c=\"black\")\n",
        "plt.axhline(y=0,c=\"black\",linewidth=0.5)\n",
        "plt.axvline(x=0,c=\"black\",linewidth=0.5)\n",
        "plt.plot(x_seq,y_pre,c=\"blue\")\n",
        "plt.plot(x_seq,yy_pre,c=\"orange\")"
      ],
      "metadata": {
        "colab": {
          "base_uri": "https://localhost:8080/",
          "height": 282
        },
        "id": "mGJukOqDZqWB",
        "outputId": "4abab158-d9bc-482f-8d11-d01f511c2751"
      },
      "execution_count": null,
      "outputs": [
        {
          "output_type": "execute_result",
          "data": {
            "text/plain": [
              "[<matplotlib.lines.Line2D at 0x7fa7e39abb10>]"
            ]
          },
          "metadata": {},
          "execution_count": 21
        },
        {
          "output_type": "display_data",
          "data": {
            "image/png": "[encoded data removed]",
            "text/plain": [
              "<Figure size 432x288 with 1 Axes>"
            ]
          },
          "metadata": {
            "needs_background": "light"
          }
        }
      ]
    },
    {
      "cell_type": "code",
      "source": [
        ""
      ],
      "metadata": {
        "id": "D2L1od0yZybl"
      },
      "execution_count": null,
      "outputs": []
    }
  ]
}